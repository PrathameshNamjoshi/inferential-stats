{
 "cells": [
  {
   "cell_type": "markdown",
   "metadata": {},
   "source": [
    "# P1 - Stroop Effect\n",
    "In a Stroop task, participants are presented with a list of words, with each word displayed in a color of ink.\n",
    "The participant’s task is to say out loud the color of the ink in which the word is printed. \n",
    "The task has two conditions: a congruent words condition, and an incongruent words condition.\n",
    "In the congruent words condition, the words being displayed are color words whose names match the colors in which they are \n",
    "printed: for example RED, BLUE. In the incongruent words condition, the words displayed are color words whose names do not\n",
    "match the colors in which they are printed: for example PURPLE, ORANGE. In both cases, we measure the time it takes to name\n",
    "the ink colors.\n",
    "\n",
    "# My test results:\n",
    "Time for Congruent words - 10.905\n",
    "Time for Incongruent words - 30.41\n",
    "\n",
    "1) What is our independent variable? What is our dependent variable?\n",
    "Independent variable is: The colour congruency is the varable being manipulated in the experiment.\n",
    "Dependent variable is: The time it takes to recognize the colors of the mismatch colour congruency.\n",
    "    \n",
    "2) What is an appropriate set of hypotheses for this task? What kind of statistical test do you expect to perform?\n",
    "   Justify your choices.\n",
    "   \n",
    "Null Hypothsis, H0 - The mismatch of color to word will have no effect or decrease time to recognize.\n",
    "\n",
    "Alternate Hypothesis, H1 - The mismatch of color to word will increase time to recognize.\n",
    "\n",
    "H0: μi =μc (μi - population mean of incongruent values, μc - population mean of congruent values)\n",
    "\n",
    "HA: μi > μc (μi - population mean of incongruent values, μc - population mean of congruent values)\n",
    "    \n",
    "# statistical test choices and assumptions\n",
    "I have chosen 95% confidence interval.So alpha=0.05.\n",
    "Paired one tail t-test -> with two tests per participant this test show if the mean of incongruent words is statistically \n",
    "significantly different from the congruent words at an alpha of 0.05.\n",
    "\n",
    "# Assumptions\n",
    "I will be using a t-test instead of a z-test because \n",
    "1) the population standard deviation is unknown \n",
    "2) the sample set is less than 30. The t-test will be a one tailed t-test i.e. alternative hypothesis is that\n",
    "participant's incongruent sample mean will be larger than the participant's congruent sample mean so it is positive one tailed.\n"
   ]
  },
  {
   "cell_type": "code",
   "execution_count": 2,
   "metadata": {
    "collapsed": true
   },
   "outputs": [],
   "source": [
    "\n",
    "%matplotlib inline\n",
    "\n",
    "import matplotlib.pyplot as plt\n",
    "import pandas as pd\n",
    "import numpy as np\n",
    "from scipy.stats import t\n",
    "import seaborn as sns\n",
    "import math\n",
    "\n",
    "stroopeffect = pd.read_csv(\"stroopdata.csv\")"
   ]
  },
  {
   "cell_type": "code",
   "execution_count": 2,
   "metadata": {},
   "outputs": [
    {
     "name": "stdout",
     "output_type": "stream",
     "text": [
      "    Congruent  Incongruent\n",
      "0      12.079       19.278\n",
      "1      16.791       18.741\n",
      "2       9.564       21.214\n",
      "3       8.630       15.687\n",
      "4      14.669       22.803\n",
      "5      12.238       20.878\n",
      "6      14.692       24.572\n",
      "7       8.987       17.394\n",
      "8       9.401       20.762\n",
      "9      14.480       26.282\n",
      "10     22.328       24.524\n",
      "11     15.298       18.644\n",
      "12     15.073       17.510\n",
      "13     16.929       20.330\n",
      "14     18.200       35.255\n",
      "15     12.130       22.158\n",
      "16     18.495       25.139\n",
      "17     10.639       20.429\n",
      "18     11.344       17.425\n",
      "19     12.369       34.288\n",
      "20     12.944       23.894\n",
      "21     14.233       17.960\n",
      "22     19.710       22.058\n",
      "23     16.004       21.157\n"
     ]
    }
   ],
   "source": [
    "print(stroopeffect)"
   ]
  },
  {
   "cell_type": "code",
   "execution_count": 3,
   "metadata": {},
   "outputs": [
    {
     "data": {
      "text/html": [
       "<div>\n",
       "<style>\n",
       "    .dataframe thead tr:only-child th {\n",
       "        text-align: right;\n",
       "    }\n",
       "\n",
       "    .dataframe thead th {\n",
       "        text-align: left;\n",
       "    }\n",
       "\n",
       "    .dataframe tbody tr th {\n",
       "        vertical-align: top;\n",
       "    }\n",
       "</style>\n",
       "<table border=\"1\" class=\"dataframe\">\n",
       "  <thead>\n",
       "    <tr style=\"text-align: right;\">\n",
       "      <th></th>\n",
       "      <th>Congruent</th>\n",
       "      <th>Incongruent</th>\n",
       "    </tr>\n",
       "  </thead>\n",
       "  <tbody>\n",
       "    <tr>\n",
       "      <th>count</th>\n",
       "      <td>24.000000</td>\n",
       "      <td>24.000000</td>\n",
       "    </tr>\n",
       "    <tr>\n",
       "      <th>mean</th>\n",
       "      <td>14.051125</td>\n",
       "      <td>22.015917</td>\n",
       "    </tr>\n",
       "    <tr>\n",
       "      <th>std</th>\n",
       "      <td>3.559358</td>\n",
       "      <td>4.797057</td>\n",
       "    </tr>\n",
       "    <tr>\n",
       "      <th>min</th>\n",
       "      <td>8.630000</td>\n",
       "      <td>15.687000</td>\n",
       "    </tr>\n",
       "    <tr>\n",
       "      <th>25%</th>\n",
       "      <td>11.895250</td>\n",
       "      <td>18.716750</td>\n",
       "    </tr>\n",
       "    <tr>\n",
       "      <th>50%</th>\n",
       "      <td>14.356500</td>\n",
       "      <td>21.017500</td>\n",
       "    </tr>\n",
       "    <tr>\n",
       "      <th>75%</th>\n",
       "      <td>16.200750</td>\n",
       "      <td>24.051500</td>\n",
       "    </tr>\n",
       "    <tr>\n",
       "      <th>max</th>\n",
       "      <td>22.328000</td>\n",
       "      <td>35.255000</td>\n",
       "    </tr>\n",
       "  </tbody>\n",
       "</table>\n",
       "</div>"
      ],
      "text/plain": [
       "       Congruent  Incongruent\n",
       "count  24.000000    24.000000\n",
       "mean   14.051125    22.015917\n",
       "std     3.559358     4.797057\n",
       "min     8.630000    15.687000\n",
       "25%    11.895250    18.716750\n",
       "50%    14.356500    21.017500\n",
       "75%    16.200750    24.051500\n",
       "max    22.328000    35.255000"
      ]
     },
     "execution_count": 3,
     "metadata": {},
     "output_type": "execute_result"
    }
   ],
   "source": [
    "stroopeffect.describe()"
   ]
  },
  {
   "cell_type": "code",
   "execution_count": 4,
   "metadata": {},
   "outputs": [
    {
     "data": {
      "text/plain": [
       "(14.3565, 21.0175)"
      ]
     },
     "execution_count": 4,
     "metadata": {},
     "output_type": "execute_result"
    }
   ],
   "source": [
    "# median / 50% values\n",
    "congruent = stroopeffect['Congruent']\n",
    "incongruent = stroopeffect['Incongruent']\n",
    "congruent.median(), incongruent.median()"
   ]
  },
  {
   "cell_type": "markdown",
   "metadata": {},
   "source": [
    "\n",
    "# Report some descriptive statistics regarding this dataset. Include at least one measure of central tendency and at least one measure of variability.\n",
    "sample size = 24\n",
    "mean: xbar = Sigma{x}/n (where xbar is the sample mean, x is the value and n is the number of samples)\n",
    "Congruent: 14.05, Incogruent: 22.02\n",
    "\n",
    "median:\n",
    "Congruent: 14.3565, Incongruent: 21.0175\n",
    "\n",
    "sample std. deviation: sigma = \\Sigma{(x - xbar)^2}/n\n",
    "Congruent: 3.56, Incongruent: 4.80"
   ]
  },
  {
   "cell_type": "markdown",
   "metadata": {},
   "source": [
    "# Provide one or two visualizations that show the distribution of the sample data. Write one or two sentences noting what you observe about the plots."
   ]
  },
  {
   "cell_type": "code",
   "execution_count": 3,
   "metadata": {},
   "outputs": [
    {
     "data": {
      "text/plain": [
       "<matplotlib.axes._subplots.AxesSubplot at 0x837dbf0>"
      ]
     },
     "execution_count": 3,
     "metadata": {},
     "output_type": "execute_result"
    },
    {
     "data": {
      "image/png": "[encoded data removed]",
      "text/plain": [
       "<matplotlib.figure.Figure at 0x3584b70>"
      ]
     },
     "metadata": {},
     "output_type": "display_data"
    }
   ],
   "source": [
    "sns.distplot(stroopeffect['Congruent'])\n",
    "The data is more or less normally distributed. And just like we saw before, the middle of the data is a little bit less than 15."
   ]
  },
  {
   "cell_type": "markdown",
   "metadata": {},
   "source": [
    "The data is more or less normally distributed. And just like we saw before, the middle of the data is a little bit less than 15."
   ]
  },
  {
   "cell_type": "code",
   "execution_count": 4,
   "metadata": {},
   "outputs": [
    {
     "data": {
      "text/plain": [
       "<matplotlib.axes._subplots.AxesSubplot at 0x3584b10>"
      ]
     },
     "execution_count": 4,
     "metadata": {},
     "output_type": "execute_result"
    },
    {
     "data": {
      "image/png": "[encoded data removed]",
      "text/plain": [
       "<matplotlib.figure.Figure at 0x8476d10>"
      ]
     },
     "metadata": {},
     "output_type": "display_data"
    }
   ],
   "source": [
    "sns.distplot(stroopeffect['Incongruent'])"
   ]
  },
  {
   "cell_type": "markdown",
   "metadata": {},
   "source": [
    "There are some interesting data points on the upper end of this distribution that skew it right, other than that, it looks like\n",
    "we expected it to be."
   ]
  },
  {
   "cell_type": "markdown",
   "metadata": {},
   "source": [
    "# Now, perform the statistical test and report your results. What is your confidence level and your critical statistic value? Do you reject the null hypothesis or fail to reject it? Come to a conclusion in terms of the experiment task. Did the results match up with your expectations?"
   ]
  },
  {
   "cell_type": "markdown",
   "metadata": {},
   "source": [
    "Our standard deviation of the differences is calculated below."
   ]
  },
  {
   "cell_type": "code",
   "execution_count": 8,
   "metadata": {},
   "outputs": [
    {
     "data": {
      "text/plain": [
       "4.864826910359056"
      ]
     },
     "execution_count": 8,
     "metadata": {},
     "output_type": "execute_result"
    }
   ],
   "source": [
    "stroopeffect['Difference'] = stroopeffect['Congruent'] - stroopeffect['Incongruent']\n",
    "stroopeffect['Difference'].std(axis=0)"
   ]
  },
  {
   "cell_type": "code",
   "execution_count": 23,
   "metadata": {},
   "outputs": [
    {
     "data": {
      "text/plain": [
       "1.7138715277470473"
      ]
     },
     "execution_count": 23,
     "metadata": {},
     "output_type": "execute_result"
    }
   ],
   "source": [
    "# t-critical value for a 95% confidence level and 23 d.f.\n",
    "t.ppf(.95, 23)"
   ]
  },
  {
   "cell_type": "markdown",
   "metadata": {},
   "source": [
    "For a confidence level of 95% and 23 degrees of freedom, our t-critical value ends up being 1.7139\n"
   ]
  },
  {
   "cell_type": "markdown",
   "metadata": {},
   "source": [
    "Our point estimate for the difference of the means is: 22.02 - 14.05 = 7.97\n",
    "\n",
    "So our t-statistics value will be calculated as follows."
   ]
  },
  {
   "cell_type": "code",
   "execution_count": 14,
   "metadata": {},
   "outputs": [
    {
     "data": {
      "text/plain": [
       "8.027316303446517"
      ]
     },
     "execution_count": 14,
     "metadata": {},
     "output_type": "execute_result"
    }
   ],
   "source": [
    "7.97/(4.864 / math.sqrt(24))"
   ]
  },
  {
   "cell_type": "markdown",
   "metadata": {},
   "source": [
    "standard deviation, sd = 4.86\n",
    "\n",
    "standard error of the difference, SE = sd/√n = 4.86/√24 = 0.99\n",
    "\n",
    "t-statistic, T = point-difference/SE = 7.97/0.99 = 8.02 on 23df\n",
    "\n",
    "t-critical=1.713\n",
    "\n",
    "t-distribution with n-1 degrees of freedom (df = 23). \n",
    "\n",
    "The result is significant at p < 0.05%."
   ]
  },
  {
   "cell_type": "markdown",
   "metadata": {},
   "source": [
    "Because our t-statistic (8.02) is greater than our critical value (1.7139), we can reject the null hypothesis.\n",
    "\n",
    "This means that it does take mmore time to do the incongruent task than it does to do the congruent task.\n",
    "\n",
    "This matches up with what we expected.\n"
   ]
  },
  {
   "cell_type": "markdown",
   "metadata": {},
   "source": [
    "# Hypothesis\n",
    "I reject the null hypothesis, the colour incongruent does cause a greater time response\n",
    "\n",
    "# Conclusion\n",
    "The results match my expectations."
   ]
  },
  {
   "cell_type": "markdown",
   "metadata": {},
   "source": [
    "# Optional: What do you think is responsible for the effects observed? Can you think of an alternative or similar task that would result in a similar effect? Some research about the problem will be helpful for thinking about these two questions!\n",
    "\n",
    "I believe it's a subconscious or habitual behaviour where commonly used words are glanced over and easily recognized in your mind and therefore, because the color and words match, it takes little effort to say the word/colour. However, when the word and colour are mismatched, we first think of the word and then need to correct to say the colour causing either errors or more time to provide the correct response.\n",
    "I imagine replacing letters with numbers in the experiment would yeild the same results."
   ]
  },
  {
   "cell_type": "markdown",
   "metadata": {},
   "source": []
  },
  {
   "cell_type": "code",
   "execution_count": null,
   "metadata": {
    "collapsed": true
   },
   "outputs": [],
   "source": []
  }
 ],
 "metadata": {
  "kernelspec": {
   "display_name": "Python 3",
   "language": "python",
   "name": "python3"
  },
  "language_info": {
   "codemirror_mode": {
    "name": "ipython",
    "version": 3
   },
   "file_extension": ".py",
   "mimetype": "text/x-python",
   "name": "python",
   "nbconvert_exporter": "python",
   "pygments_lexer": "ipython3",
   "version": "3.6.1"
  }
 },
 "nbformat": 4,
 "nbformat_minor": 2
}
